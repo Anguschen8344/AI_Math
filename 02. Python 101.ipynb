{
 "cells": [
  {
   "cell_type": "markdown",
   "metadata": {},
   "source": [
    "這裡我們要介紹 Python 基本入門, 有很多看起來就是準備來踢館的同學, 希望能幫忙一下剛剛開始學程式語言的同學。\n",
    "\n",
    "初學可能會需要找本 Python 入門書。這很容易, 到書店找一本你看起來最順眼的, 大概就可以了。學習一個程式語言, 大致上要學會的東西有:\n",
    "\n",
    "* 資料型態\n",
    "* 基本輸入輸出\n",
    "* 函數定義的方法\n",
    "* 迴圈的寫法\n",
    "* 條件判斷\n",
    "\n",
    "等等。在如 Python 這種「物件導向」程式語言, 可能還要加入 `class` 的用法。不過說實在, `class` 大概理解就可以。"
   ]
  },
  {
   "cell_type": "code",
   "execution_count": null,
   "metadata": {},
   "outputs": [],
   "source": []
  },
  {
   "cell_type": "markdown",
   "metadata": {},
   "source": [
    "## 02-01 把 Python 當計算機\n",
    "\n",
    "基本資料型態和當計算機功能, 通常是最無聊的部份 (不過可能是最實用功能之一)。我們不準備花太多時間...\n",
    "\n",
    "記得所有程式原則, 就是有模糊的地方, 就加小括號。Python 有要特别說明的, 大概只有指數的運算。"
   ]
  },
  {
   "cell_type": "code",
   "execution_count": null,
   "metadata": {},
   "outputs": [],
   "source": []
  },
  {
   "cell_type": "markdown",
   "metadata": {},
   "source": [
    "忍不住要告訴大家, Python 整數是「無限長度」, 這在一些應用上很方便。"
   ]
  },
  {
   "cell_type": "code",
   "execution_count": null,
   "metadata": {},
   "outputs": [],
   "source": []
  },
  {
   "cell_type": "markdown",
   "metadata": {},
   "source": [
    "### 資料型態\n",
    "\n",
    "寫過程式的就知道, 什麼整數、浮點數、字串等等的, 在 Python 當然是有的。在 Python 字串可以用單引號或雙引號 (沒有區別), 還有「三引號」..."
   ]
  },
  {
   "cell_type": "code",
   "execution_count": null,
   "metadata": {},
   "outputs": [],
   "source": []
  },
  {
   "cell_type": "markdown",
   "metadata": {},
   "source": [
    "#### 【註】\n",
    "\n",
    "Python 喜歡用 `spam`, `ham`, `eggs` 當做沒什麼特别意義的變數 (metasyntactic variables) 名稱 。出處是 Monty Python 的影片, 當然知道這種東西, 其實對我們寫程式也沒什麼幫助...\n",
    "\n",
    "[Monty Python: Spam](https://www.youtube.com/watch?v=9OVKXIfrGJE)"
   ]
  },
  {
   "cell_type": "markdown",
   "metadata": {},
   "source": [
    "### List 串列\n",
    "\n",
    "串列是我們學到 Python 第一個和數據分析比較有關的資料型態。嚴格說起來, 其實是串列的親戚 array 才真的是我們重視的。"
   ]
  },
  {
   "cell_type": "code",
   "execution_count": null,
   "metadata": {},
   "outputs": [],
   "source": []
  },
  {
   "cell_type": "markdown",
   "metadata": {},
   "source": [
    "### 非常一致的 index 方式\n",
    "\n",
    "Python index 的方式, 從 list 到字串, 甚至到之後的 array, 基本上都是一樣的。所以我們可以用一樣的方式找出我們要的部份。\n",
    "\n",
    "![slicing](images/slicing.jpeg)\n"
   ]
  },
  {
   "cell_type": "code",
   "execution_count": null,
   "metadata": {},
   "outputs": [],
   "source": []
  },
  {
   "cell_type": "markdown",
   "metadata": {},
   "source": [
    "### 字典資料型態"
   ]
  },
  {
   "cell_type": "code",
   "execution_count": null,
   "metadata": {},
   "outputs": [],
   "source": []
  },
  {
   "cell_type": "markdown",
   "metadata": {},
   "source": [
    "### 字串、串列的「計算」\n",
    "\n",
    "    eggs = 'ლ(╹◡╹ლ)'\n",
    "    ham = '(σ′▽‵)′▽‵)σ'\n",
    "    \n",
    "範例是由[顏文字卡](http://facemood.grtimed.com/)找來的。"
   ]
  },
  {
   "cell_type": "code",
   "execution_count": null,
   "metadata": {},
   "outputs": [],
   "source": []
  },
  {
   "cell_type": "markdown",
   "metadata": {},
   "source": [
    "### 02-02 基本輸入輸出\n",
    "\n"
   ]
  },
  {
   "cell_type": "code",
   "execution_count": null,
   "metadata": {},
   "outputs": [],
   "source": []
  },
  {
   "cell_type": "markdown",
   "metadata": {},
   "source": [
    "![拍拍機器人](images/pypy.png)"
   ]
  },
  {
   "cell_type": "code",
   "execution_count": null,
   "metadata": {},
   "outputs": [],
   "source": []
  },
  {
   "cell_type": "markdown",
   "metadata": {},
   "source": [
    "### 02-03 函數真的炫炫的\n",
    "\n",
    "這裡的函數和我們機器學習的函數意思不太一樣, 是指在電腦程式裡的函數。需要「重覆」型的工作, 我們就可以寫成一個函數來做。"
   ]
  },
  {
   "cell_type": "code",
   "execution_count": null,
   "metadata": {},
   "outputs": [],
   "source": []
  },
  {
   "cell_type": "markdown",
   "metadata": {},
   "source": [
    "#### 匯率換算順便 f-string\n",
    "\n",
    "Python 3.6 出現 f-string, 是 Python 使用 `print` 格式化新標準。使用上非常直覺簡單!\n"
   ]
  },
  {
   "cell_type": "code",
   "execution_count": null,
   "metadata": {},
   "outputs": [],
   "source": []
  },
  {
   "cell_type": "markdown",
   "metadata": {},
   "source": [
    "這樣太醜, 我們還是可以加入一些格式化參數選項。\n",
    "\n",
    "    {twd:.2f}"
   ]
  },
  {
   "cell_type": "code",
   "execution_count": null,
   "metadata": {},
   "outputs": [],
   "source": []
  },
  {
   "cell_type": "markdown",
   "metadata": {},
   "source": [
    "#### return 其實才是標準的"
   ]
  },
  {
   "cell_type": "code",
   "execution_count": null,
   "metadata": {},
   "outputs": [],
   "source": []
  },
  {
   "cell_type": "markdown",
   "metadata": {},
   "source": [
    "## 02-04 基本條件判斷"
   ]
  },
  {
   "cell_type": "code",
   "execution_count": null,
   "metadata": {},
   "outputs": [],
   "source": []
  },
  {
   "cell_type": "markdown",
   "metadata": {},
   "source": [
    "### 標準的 if else"
   ]
  },
  {
   "cell_type": "code",
   "execution_count": null,
   "metadata": {},
   "outputs": [],
   "source": []
  },
  {
   "cell_type": "markdown",
   "metadata": {},
   "source": [
    "## 02-05 一直做一直做的迴圈"
   ]
  },
  {
   "cell_type": "markdown",
   "metadata": {},
   "source": [
    "### while 迴圈"
   ]
  },
  {
   "cell_type": "code",
   "execution_count": null,
   "metadata": {},
   "outputs": [],
   "source": []
  },
  {
   "cell_type": "markdown",
   "metadata": {},
   "source": [
    "### for 迴圈基本上用 list"
   ]
  },
  {
   "cell_type": "code",
   "execution_count": null,
   "metadata": {},
   "outputs": [],
   "source": []
  },
  {
   "cell_type": "markdown",
   "metadata": {},
   "source": [
    "### 快速產生 list 的方法"
   ]
  },
  {
   "cell_type": "code",
   "execution_count": null,
   "metadata": {},
   "outputs": [],
   "source": []
  },
  {
   "cell_type": "markdown",
   "metadata": {},
   "source": [
    "## 02-06 耍寶練習時間\n",
    "\n",
    "可以清空 cell 顯示的指令 (Jupyter Notebook 指令)\n",
    "\n",
    "    from IPython.display import clear_output\n",
    "    \n",
    "時間套件 (Python 標準套件)\n",
    "\n",
    "    import time"
   ]
  },
  {
   "cell_type": "markdown",
   "metadata": {},
   "source": [
    "    emoticon = 'ヽ(●´∀`●)ﾉ'"
   ]
  },
  {
   "cell_type": "code",
   "execution_count": null,
   "metadata": {},
   "outputs": [],
   "source": []
  }
 ],
 "metadata": {
  "kernelspec": {
   "display_name": "Python 3",
   "language": "python",
   "name": "python3"
  },
  "language_info": {
   "codemirror_mode": {
    "name": "ipython",
    "version": 3
   },
   "file_extension": ".py",
   "mimetype": "text/x-python",
   "name": "python",
   "nbconvert_exporter": "python",
   "pygments_lexer": "ipython3",
   "version": "3.6.5"
  }
 },
 "nbformat": 4,
 "nbformat_minor": 2
}
